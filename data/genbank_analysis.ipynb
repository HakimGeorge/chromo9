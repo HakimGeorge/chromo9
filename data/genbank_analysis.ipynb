{
 "metadata": {
  "name": ""
 },
 "nbformat": 3,
 "nbformat_minor": 0,
 "worksheets": [
  {
   "cells": [
    {
     "cell_type": "code",
     "collapsed": false,
     "input": [
      "from unipath import Path\n",
      "from Bio import GenBank\n",
      "import pprint"
     ],
     "language": "python",
     "metadata": {},
     "outputs": [],
     "prompt_number": 1
    },
    {
     "cell_type": "code",
     "collapsed": false,
     "input": [
      "records = []\n",
      "for p in Path('./split_files/').listdir():\n",
      "    try:\n",
      "        gbr = GenBank.read(open(p))\n",
      "        records.append(gbr)\n",
      "    except:\n",
      "        print 'error with file', p\n",
      "print \"there are %s records\" % len(records)"
     ],
     "language": "python",
     "metadata": {},
     "outputs": [
      {
       "output_type": "stream",
       "stream": "stdout",
       "text": [
        "there are 1163 records\n"
       ]
      }
     ],
     "prompt_number": 44
    },
    {
     "cell_type": "code",
     "collapsed": false,
     "input": [
      "records[0].__dict__"
     ],
     "language": "python",
     "metadata": {},
     "outputs": [
      {
       "metadata": {},
       "output_type": "pyout",
       "prompt_number": 45,
       "text": [
        "{'accession': ['AB009589'],\n",
        " 'base_counts': '',\n",
        " 'comment': '',\n",
        " 'contig': '',\n",
        " 'data_file_division': 'PRI',\n",
        " 'date': '25-DEC-2002',\n",
        " 'db_source': '',\n",
        " 'dblinks': [],\n",
        " 'definition': 'Homo sapiens gene for Osteomodulin, complete cds.',\n",
        " 'features': [<Bio.GenBank.Record.Feature at 0xe1fc3d0>,\n",
        "  <Bio.GenBank.Record.Feature at 0xe1fc450>,\n",
        "  <Bio.GenBank.Record.Feature at 0xe1fc490>,\n",
        "  <Bio.GenBank.Record.Feature at 0xe1fc650>,\n",
        "  <Bio.GenBank.Record.Feature at 0xe1fc690>,\n",
        "  <Bio.GenBank.Record.Feature at 0xe1fc550>,\n",
        "  <Bio.GenBank.Record.Feature at 0xe1fc710>,\n",
        "  <Bio.GenBank.Record.Feature at 0xe1fc8d0>,\n",
        "  <Bio.GenBank.Record.Feature at 0xe1fc790>,\n",
        "  <Bio.GenBank.Record.Feature at 0xe1fc810>,\n",
        "  <Bio.GenBank.Record.Feature at 0xe1fc950>,\n",
        "  <Bio.GenBank.Record.Feature at 0xe1fcc50>,\n",
        "  <Bio.GenBank.Record.Feature at 0xe1fca10>],\n",
        " 'gi': '2696501',\n",
        " 'keywords': ['Osteomodulin'],\n",
        " 'locus': 'AB009589',\n",
        " 'nid': '',\n",
        " 'organism': 'Homo sapiens',\n",
        " 'origin': '',\n",
        " 'pid': '',\n",
        " 'primary': [],\n",
        " 'projects': [],\n",
        " 'references': [<Bio.GenBank.Record.Reference at 0xe1fc410>,\n",
        "  <Bio.GenBank.Record.Reference at 0xe1fc0d0>],\n",
        " 'residue_type': 'DNA     linear',\n",
        " 'segment': '',\n",
        " 'sequence': 'CCAATCAGTTTAAATTTTCTAGACATTTTTATTCTGTCTGCTCTAGTTATCTACTGATTTTTCTTTCACACTTGTTAAAAACATGAATAACATAATCAATATCATAAATCCAAATCACAGAGTTAATGAGAAGTTATATAAACATTAGGCTGTTGATTTTCAGTTAATCTTCCAAAAGGACTGTGAAGGCCTATAAAACAATTTTTTGAAAAAGTACACAGATTTGCTCTCTCTTCCTTAGTGAAAGCCTGAGTTTTAAGAACAAAGACACTAACAGAAAACATATGGAAAAGATCAGTAACAAGATGGAATCTTGGCTAAAGTGTGGTCTGCCACGTTTTTCATACCAATGTCTCAAATAATAGACTAGATTTTTACAACTGCCAAAGCATCACTTGAAACACTGTATACTTTTCTTAATGCAAAGTTTAACAAAATAAATCTTGTGAGTTCTTTGTAAAAAGCTAATGGAAAACACTTTTTTGAGGAAACAAAATGAACTCCAGGATTCACTTTATCTTATTAGTTTGTAAAAGCTTAAAAGAATTCCCCCCCAAAATGAACTCCGAATCTACTGCCAAAAGACACAAGTCAACTCTCTGTTTAGAATATGAGAACAGTGTAAAAATTAAACATTAAAAACAGTTAACTGTTACTATTCAGGAGAGATAGCTCTATGAAATGAAGAAATTTTCTAAATCTACAAAATAAAGGCAATAGCTATTGAGTAACATAAGCTTTTCATCCCATTTTATTCAATACTACAGAATTATTTTGTGCAATAGTAAAAACAGGCAAATTGAAGATACACCTTTGGAGTGCAACCAACTGACTAATTTTATCTGAAAGGATATTAGAAGTCATTCTAGTGGGTACATCTGCCAAAAAGAGGAGAAATGAGATAGCTGATAAAAATGATGATAAAAATGAAGATGTAAGCCTTTGTATAGAAAAGTCATATAGTTAATCTGTGTAAGCAATGACAATCAAGTGCAATTTAAAAATAAACAATGCGAAATGTTATGTTTCTAATCCTGATTTCTTGTTTTAACAAATAGAAGTACTGATATGAACCTAGGTGTTGAATAACCAAGGGACTCAAGAAATTTTGAGTTCCAGGCCAGGCGTGGTGGCTCATGCCTGTAATCCCAGCAATTTGGGAGGTGGAGGCGGGAGGATCACCTGAGGTCAGGAGTTCAAGACCAGCCTGGCCAACATGGTGAAACCCCATCTCTACTAAAAATACAAGAAATTAGCCAGGCATGGTGGCTCATGCCTGTAATCCCAGCTACTTGGGAGGCTGAGACAGGAGAATTGCTTGAACCCGGGAGGTGGAGGTTGTGGTGAGCCGAGGTTGCACCACTATACTCTGGCCTGGGCAGCAAAGCAAGACTCCATCTCAAAAAATTAAAAAAGAAATTTTGAGTTCCACCTTAAGCTGCTGAGACTCTGGAGTTCCCTGTCACAGTGGGCCTTAATTTGAAGAATTCTTTGGCATGAAAATGAAAATAAAAACAGTAATCAGTACATGCTGTTTCATTTAGTTTTGTTTGCCTTTCACATTAGAGGAAATTCTTGCCACACCTCAAACCAAAATTAAGGGGAAAAGAAAGAAGTAAGCCACATAAATCTGACCAAGAACACAAGCATCTTAATTTGAATCCACAAAGTTTCATGTAATGAAAAGAAATACATAATTTTAATTCAACCCGAGTGTTTTCCAAGAAGATTGTATTTGCTTAAATTGCTACAGTAATTCAAGAGACAGCCCTGTCTGGACACAGAGTTACTGTGGATTTTTAAGAGACTCAGTTAAAGAATTTAGGAATTTCTGATTCATTTAAAGGATTTACAAATTCATCAACCCCTGAAAACTAAAGCAAATTGAACAGGTATGATAATAAAATAATTTTCAATTTTTTTAAGAATGTATTCCTACTGTTAAAATTATAAAAGTATATTGGATTTTTTAATATTAAAATACACTGCATCTATTACAAAAGCACAATTTTTGGAAGCAAAATCTGGTAAAAAAGTTATGTTAAACTTTTGATTAGGCAAAATGTTCAAATAAAGTAGTATAATGAGTTTAACTTTCTCATTTAAGATTTACCCAATAAAAAATCTTTGTTTAGATTTTTTTTTACTTTGAATGAAAGGAAAGATTCTCAGGTTAAAGGAATCAATCTCTTTCTCTTCCTTAGGTCTCTTTTTTTCTATGAATTATAAGTAACAAAGAACCAGCTAATGCCTTTGAGGCATACAGCTGAGCAATGCTAGTGATTCCGGTTGGGGGGTTGATGGGCATTTGTACAAATTTCACTCAAGATTTTCTCCAAATTTCTCTACTGACTAAATCCCTGATATAGAATGTTTTTCTTTTCATTTACTTCTTTCTCAAAGGGAAAATACAGATGCTCTATCTAGTCTATTGAAGGATCTAGTTACTTTGGGTTTTAGTTAATTACGATTTAAATGTATTATGGCTAAAAATAATTGAGGTAATTGTATTTTTAATAGCAAAAAAATTTTATAAAATTAAAATTTAGAACTTTTTTGGAAAAATCTAAATTATATGCTAATATTTGCTTTCTTATATGCTAGTTTCTATGTCATACAAATAAAAACAATTATGTCTTTAACATAATAAAATGTTGAGGATTTTACTTTAAACTTTTCCTGAACAAGTAAATTATACCTCATTAGTAATTTCAATTGAAACTTTTCTTGATGAACACGAGTGCTTTTCTCCAAGTAAGAGAAATATTATGACACAGATGGTTTTATTGCTATAATATGAAAAATTCACATTGAAAACTGGTAATATATATATATTACTTTGCTCCAAACATTCTTTTTCACATTTGTTCTTTTCCTGCTACACGATGTACTAGGAAAGTGAGGAATACAGTATATTGTGATGAAGAAATATTCAATAGAAAAAGGAACAGTCAAGCTCTCATGAATATGTTCATTTGAAGAAATTATCATAGTGAAATAAATGCCTAGGAATAATCAACATTAGTAGAGAGAAGCATTTGCTAGCAAGCCTTAACCTATAACTTATTAACTTAATCATTCATTCAACACACCTTTGAGCACTTATAACACTGCATTGTATTAGATTCTGTTAAAAGATATTAGGAAATGAGATGATCAACAATGAATTATACAATATTGCTGTGAGTTATCCTATAGAGAACAAGGCATACATTGTAGAGTATGAAAAGCAGAAGTAACAAAAATATGCTTAGCAAATGACTCAGAAGAGATTAGTTGGGGAATGAAAAATTTGGATAAAATAAGAGATTGTTGTAACAGGGGAAATTATCCTGGGGAAAGAGCAAGAGGCATAGAAAATAATGAGCATATAGATGAAAACAGGATGGATTTCAAAACAGAAAACTGCACTTAATCAAAGGGAGTGGGACAAGATTGTACTACATGGTTAGGAACGTGGAGGGAGGAGGACAAGGATGTTTAAGATAAGTTCAGGTTTAGAAGAGAAATTGTTCCTCAAGGAAAGACTTTCTTCTTAGGTGCTCACAAAGGCGGAAAGCAGACAATATTAAAAACCTCTTTATTTTCAGAGACGCCCCAGTCATGTCTTGATTCAAGGCCTTCTTCTTTTTTCCCAACAATTTTTCATAGTTGTTGAACAACAGACTCTAATTCTCAAATGTAAGGTTGATAACTGATGATTAGCTAATGTTCTCAACAAAGGGATAAAATTCAAGCTGAGTTTTCAGCCAGGCAGGTGGCTCACACCTGTAATCTCAGCACTTTGGGAGGCTGAGGTGGGCGGATCACCTGAGGTCAGGAGTTCGAGACCAGGCTGGCCAACATGGCAAAATCCCGTCTTAACTAAAAATACAAAAAAATGTAGCCAGTCGTGGTGGTGCACGCCTGTAATCCCAGCTACTCAGGAGGCTGAGGCACAAGAATCACTTGAGCCTGGGAGGCGGAGGTTGCAGTGAGCCGAGATTGTGCCACTGCACTCCAGCCTGGGTGACAGCACGAGACTCTTGTCTCCAAAAAAAAAAAAGTTAATATGTTATACTATAATAAGTACAATAAAATATTATAAAATTATACATAAAATATCATCAATGAGTATAAAATGTATAGAATATTCTATATCCATTCCTATTAATCTCCCAAAGTCTGGGTCAAATGATGTCTACAAAAGACTTTCCTGTCTCCGTAAGGCTGAGGTAAGCCACTGGCCCCACAGCATTGCCTATCTCTGCTATAAAGGATATTACCCTCTGCCTTAGATTAGGGTTCACTTTGTTGTATCTCTCTCCTCCACTAAGCTGTTTGCTCTTTACAGAAGGGACTATGGCTTCACGTCTTCTTCATTTCTGTATTCTCCACCAACTTAGCATAGTGCCTCATCACTAGAAATAATTCAGGACAACGGTAAACTGATGTAACCCAATCAAACTAACTACTAATATTTGTAAAGTGCTTCACTAAGCATGTTTACATACAGTAAAGTAGTAGAGTACACTAGGTGAATAAGCATTTCCAAGCAGACCCACTGGGAGCTTCCAGCCCAGCAAGGAGAGCCTGCTCTGAACACTGCCCTTTGGTATGATACCATAACTCCTTAAATCTACCTCCTTCCAAGATTCTCTACTTTTTCACCCACGAACACTGACTGTAGTGTGAAATCACAGCCCAAATATGTTAATTCATTAAATTAGGCATTCATTCCCAGAGTGCAAATTCCTCAGGTCAGAATTTAGGCCCTCCAAGGCCGGGGGTGGTGGCTCATGCCTGTAATCCCAGCACTTTGGGAGGCTGAGGGGGGCAGACTGGTTGAGCCCAGAAGTTCATGACCAGCCTGAGCAACATGGCAAAACCCTGTCTTTACAAAAAATTAAAAAATTAGCCAGGTGTGGTGGCACGCATCTGTAATCCCAGCTACTCAGGAGGCTGAAGTAAGAGAGTCACTTGAGCCCAGGAGATGGAGGGTGAGCCAAGAGTGCACCACTGCGCTCCAGCCTGGGTGACAGAGTGAGACTGTCTCAGAAAAAAAAAGTTAGGCTAATCCCTTCAGATCTGGATTTAATAGTCTTATTTTGCTCCTTCAAGAGTTAACCAACCACATTTCCCAAACACATCACCATCTGTTGCTTCTATGTTTTTGCTCATCTCTTCTAGCCAGAGATCTTCTTCCTCACTTCCCTCTATGAGAACCTCAACACTCCTTCAAAGTCTAGGTCAAATGCCACATCTTCCACGAATCTCACAGAAAAGAAAGAAAAATGGATGTAATATAGAGTTGCACAAAGAAACATCATGAATTTCAAAAGCACATATTGTTAAAAAAAAAACAAAAACAAAACCCAAACCATTGCTATTTTGGCATTTTCTTGTAGGTAGGGATACATATAAGAAAATAGAAATAAATGATATCTTGATCCTATTTTCTTGACTTAAAAAAAAGAAGCAAGGTCATCACCCAAAAACAATAATGGGGAATAAGGTATTAGAGGCTTCAGAGAGGAAAGTTACAAAACAGTAGCGTAGAAGAGAGGGAAGGAGGATGGTCTAAGGAAATGCAGCAGGACAGCACTTGAGGTTAGTGGTCTTGAATCGAGAGTGAGACCAGTCACCATGCTCCTGTTTTTCTTTAGTTACATTCAGCTGTGACAGTCAGGCTGTGAGTAGGTAGAGAATTGGAGTAACCAGAGTTGGAGTTTGGCAGATTGAAGGAGCCAGAAAGTTTAGGGCATGTGCAAAAGAGCAACGATAGTGATCAACTATGGGGTCTAAGTTGGTAAGAAGGAACTGACAATGTTGGGAGGTATGGATGAGGGACAGTGAAAAACAGTAGAATCAATATAGCTGAGGTTCCACGGAAATTGGAGAATTATTGCAGCTGGAGTTACTACATAGAGATAGTGGTCTGAGTGCGGAATACTCAAAATGAAGAGTATGAAGGGTTCCAGTAATAGAAAAGACAAAACCCAGGATGCGGGTGCATGGGAGCAAATGGTGAGGAAGAATGAAGGAAAGTATCACTGCAGGAAGAGAGCTCAAGGGTCTCTGACTCTACCTGAATAACTACTTCAAATTCCAAATACACACAATAGTTACATTTATAATTTCTGACAAGAAAAGAAGAAGAAATTGAGATGTTTCTTAACCTTTCTCAAATGGGGTTCTGTCAAAGAAAATAACTTAAGTAACTATTCTCTCAATTATACCAATGATGAAAAATAGCTAGAACCATTCTAGATGAACAGGAGATAAGTCATTTCATTATATGCAATGATTTGTTTGGAAACTCATTCTCTCATGAAACCCTGGGTGGGAAAAGTAGAAAGGTCTCAGAATAAAAGAGGTAGGATTTTTTAAAACCTTTTTCCTAAATGATACATTCATTTCATCTGGATAGCAGTTTTCAACGTGCAAAGTACTTGTACATGCATAGCTCATACAATGCTAACAACGACCAGGCGGATAAGCAGGCAAGATATGACACAAGGAGGCTGGATGCAGTGGCTCACGCCCGTAATCCCAGCACTTTGGGAGCCCAAGGTGGGTGGATCATGAGGTCAGGAGTTCGAGAGCAGCCTGGTCAACATGGTGAAACTCCATCTCTACTAAAAATACAAAAATTAGCCGGGTGTGGTGGAGTGCACCTGTAATCCCAGCTACTGGGGAGGCTGAGGCAGGAGAATTGCTTAAACCCAGGAGGTGGTGGCTGCAGTGAGCCGAGATCGCACCACTGCACTCCAGCCTGGGCAACAGAGCAAGACTCCATCTCAAAAAAAAAAAAAAAAAAAGACACAAGGCAACATACAAGATAAGCAGCCAAGGTATAATTCAGCTATAATTGCAATTCTTATTTTATTGATGAGGCAAGAGGCAGATATGTTAAGTGACAGAAATGAAATATAGGTTTCAGGCTTCTCATCTGGGACATAAATGACCCTTCCCTAGAACTTCAAGTTTCAGCACTGAGTGTTCATTGTGAAGTGTGCCCTTTTGCAATTCTTTTCCACACAATATCCTCCTCCTGCATTCTACTGCACGTGTATTTGATTCTCCACAAGACTTTAAACACCTGGGAGACAAGGACAGTGTGTTTTTAATAATATTTTTGTATCTAAAACTTAAATATATTAATGGAAAAAAGGAAGCTAGGAAGAAAAATGTAAAGACACTTGAACTTTGTAGAATGTAAACACTGTATGTCTTTAGGATTTAAAGTAGTTATTCAAGCAGAGTCGGAGACTAAATAATTGGATTCTGGAAACTGTTTCATGAGGAAAATTTGATGGTGCTGTTAGTTTTGGACAGAAAATATTAAAAGGAAACATGAATACTATTTCTAAATATCTGAAGTTATCACACAAAAGGGAGCATTTCACGTTCTTCTGAAGGGCAGAAAAAGGTATCAGCAAATAGAAGTTGTAGAATCTCCCAGGCAAAAGCTCTCTAACTAAAATAAAGGTCTTTCCTCCCCCAGGCAGTGACCATCATTAAAGGATCAGGTAATTCCAAAGAACACACAGCATTTACAGTGGAGGGATCAGACTGTAGTTGACTGATGTCATGCTATTATCATAGATCTATACCCTAGTAAGCAAGAGAAACTGGGACTCTTAAAAGATGGTTACTTAGTAGAAAGTCTAGTATACCAGACTTTTGACTCAAGTTCAGTGTAATATGTGACTTAAAAAAAAAAAAATCTCGGCCAGGCGCAGTGGCTCACGCCTGTAATCCCAGCACTTTGAGAGGCTGAGGTGGGTGGATCACCTGAGGTCAGGAGTTAGAGACCAGCCTGGCCAAGATGGAGAAACCCTGTCTCTACTAACAATACAAAAATTAGCCAAGCGTGGTGGCACGCGCCTGTAGTCCCAGATACTTGGGAGGCTGAGGCAGGAGAATCACTTGAACCGGGGAGGTGGAGGCTGCAGTGAGCCAAGCCTGCACCACTACACTCCACCCTGGGTGACAAGGCAAGACTCCATCTCAAAAATAAAAATAAAAAGAAAAAGAAAAAAGAAAAAAAACTCACTTCATTTGTACTTAAACATTAATTTTGGTTTGAGGCCAGGCGTGGTGGCTCACACCTGTAATCCCAGCACTTTGGGAGGCCGAGGCCAGAGGATCCCTTGAGGTCAGGAGTTTGAGACCAGCTTGGGCAACACAACGAAACCTTGTCTCTACTAAAAAATACAAAAATAAGCTGGGCATAGTGGCATGCACCTGTAGTCCCAGCTACTTGGGAGGCTGAGGCATGAGAATTGCTTGAACCTGGGAGCCTGGGAGGCAGAAGTTGCAGTGAGCCGAGATTGTGCCACTGCACTCCAGCCTGGGTGACAGAGGAGACACTGTCACAAAAAAAGAAAAAAATTTTGGTTTGAGCACTGCCCATTCTTTCTGGATATTCTTTTATATATAGACATAGGTATAATACATTTCATATAACTGAGAATTTATACCAAGCGTATTCTGAGTTTACTCACTTTCTCCACAATGTTTCCTTTTTTCCTTGAACAGGAAAAAAAAAAAGAAGATGGGTTTTTTAAGTCCAATATATGTTATTTTCTTCTTTTTTGGAGTCAAAGTACATTGCCAATATGAAACTTATCAGTGGGATGAAGACTATGACCAAGAGCCAGATGATGATTACCAAACAGGATTCCCATTTCGTCAAAATGTAGACTACGGAGTTCCTTTTCATCAGTATACTTTAGGCTGTGTCAGTGAATGCTTCTGTCCAACTAACTTTCCATCATCAATGTACTGTGATAATCGCAAACTCAAGACTATCCCAAATATTCCGATGCACATTCAGCAACTCTACCTTCAGTTCAATGAAATTGAGGCTGTGACTGCAAATTCATTCATCAATGCAACTCATCTTAAAGAAATTAACCTCAGCCACAACAAAATTAAATCTCAAAAGATTGATTATGGTGTGTTTGCTAAGCTTCCAAATCTACTACAACTTCATCTAGAGCATAATAATTTAGAAGAATTTCCATTTCCTCTTCCTAAATCTCTGGAAAGACTCCTTCTTGGTTACAATGAAATCTCCAAACTGCAGACAAATGCTATGGATGGGCTAGTAAACTTGACCATGCTTGATCTCTGTTATAATTATCTTCATGATTCTCTGCTAAAAGACAAAATCTTTGCCAAAATGGAAAAACTAATGCAGCTCAACCTCTGCAGTAACAGATTAGAATCAATGCCTCCTGGTTTGCCTTCTTCACTTATGTATCTGTCTTTAGAAAATAATTCAATTTCTTCTATACCCGAAAAATACTTCGACAAACTTCCAAAACTTCATACTCTAAGAATGTCACACAACAAACTACAAGACATCCCATATAATATTTTTAATCTTCCCAACATTGTAGAACTCAGTGTTGGACACAACAAATTGAAGCAAGCATTCTATATTCCAAGAAATTTGGAACACCTATACCTACAAAATAATGAAATAGAAAGTATGTAGACTTTTATTGTGTTTTGAAGAGAGAAAGAATGGAATCCTGATCTTTTAAAGAAAAAAATATTCAATAAGCTATGCTTTAGACATTGCTGAAAATAGTTGTTTTGAAGTTGCTTAAGGGAATGGCAGAAATCTGCCCCAGAGAAATGTGTGCTATTCAGTTTATAGTCCTTTTTATTAAATTTTATTGCCTTAAATATTGAGAAATAGGCTGGGCGTGGTGGCTCATGCCTGTAATCAGAGCACTTTGGGAGGCTAAGGCGGGTGGGGTGGATCACTTGAGGCCAGGAGTTCGAGATCAGCCTGGTCAATATAGTGAAGTCCCATCTCTACCAAAAATAGAAAAATTAGCCAGGCATGGTGGCATGTGCCTGTACTCCCAGCTACTTAAGAGGCCGAGGCATGAGAGTTGCTTGAACCCAGGAATCGGAGGTTGCAGTGAGCTGAGATCATGCCACTGCTTTCTGGCCTGGATGACAGAGCAAAACTCTGTCTTAAAAAAAAATAAAATAAAATAAATAAATAAATAAATAAATAAATAAATATATATATATATACACACATATATAATATATTTATTTATATATAAAAAATATATATTCTCTTTTATATATATAACTGATAATTTATACATATATATATAACTGACAATTTATACAGAGCGTATTCTGAGTTTAATCACTTTCTCCACAATGTTTCCTTTTCTCCTTGCAACCGGGAAAAAAAAAAGAAAAAAAGAAGAAATATATAATTTTATATATATATATTTTCTTTATATATATGTATAAATTGTCAGTTTTATATATGTATATATATAAAAGAGAGAAATAATAGAGTACATGAAGAAATATGAGTATCCTAAGTAGTGGGATTGTAGATAATTTTTTTTTGAGATTGTTCTACTAGGAATTTATTAATCAGAAAAGCCAATGAAGCCATATATATTTTGTTAATATAAAACTCATAATTTAATTTTCTTTTTATTATTTGATTAATATAAAAAGGAAACCTAATTCAATTTATAAATATTTTAATTAACAGAATTATATCCCATACAATATAAAATCTAACATAGAATTATGGCTATAACTATGGATTATACTATAATACAAGATTAATTTTTAATTTATTTCTTTCAGAGATGAATCTTACAGTGATGTGTCCTTCTATTGACCCACTACATTACCACCATTTAACATACATTCGTGTGGACCAAAATAAACTAAAAGAACCAATAAGCTCATACATCTTCTTCTGCTTCCCTCATATACACACTATTTATTATGGTGAACAACGAAGCACTAATGGTCAAACAATACAACTAAAGACACAAGTTTTCAGGAGATTTCCAGATGATGATGATGAAAGTGAAGATCACGATGATCCTGACAATGCTCATGAGAGCCCAGAACAAGAAGGAGCAGAAGGGCACTTTGACCTTCATTATTATGAAAATCAAGAATAGCAAGAAACTATATAGGTATACACTTACGACTTCACAAAACCTATACTTAATATAGTAAATCTAAGTAAACATGTATTACTCAAAGTAATATATTTAGAATTATGTATTAGTATAAGATCAGAATTGAATTTAAGTTGTTGGTGACATCTGCATCATTTCATAGGATTAGAACTTACTCAAAATAATGTAAATCTTTAAAAATATAAATTAGAATGACAAGTGGGAATCATAAATTAAACGTTAATGGTTTCTTATGCTCTTTTTAAATATAGAAATATCATGTTAAAGAAAGTGAGTGTATCATTTCTATTAACAGTAATTTTTCTAAAAATGAGGAAGGAAGTAGCATTAGCAGTAAAGACCCACAGGCCACGACCCTCCTGATCACTCTGAGGACAATATTTAAATGACAGGAAGGTATATTAATGTAACAAGCATTCATTTAAGGAATAGACCATTTTCTCTGACCTCTTCTTCAGGAAAGCTTTCACACTGGTATTTGTGATCTCACCATTATGACATCCATCCCCCTAGCTCACCACATAGCACATAGAATGATATTTTTGATTTGTAAGAGGCCATCCAGGTACTAAGGACCCAAGGCATACAGATTCACAAAATTAACTAATCTTTTTGCCTCAGAATACCAAAACAACAAAATTATAAAGCTGTTATTTGGACAACTAAAAAACACCAAACTATCTCATTGCAATTTGTATTTTAGCAGATTTCAGCAACTATCCTAAACAATGTTATTGTGTTCCATTTTAACTGGGATAAATGTTTTTGTAAAAATACAACCATAGAAAGGCCTCTTTGTTACAAAATGATTTGCAAAGAAATAACTGCTTTGTTTGCAAGATTAAATTAGTGTTGGCAAAATAAAGTTCTAAAGATAATACTAAACACTTTATGCTTATCAGCCAATATCTACATAAGCTAAAATTGAATACAGTTCCTTTATAATTTGAATGACAGGTTTTAACATCTTCTTTAAAACCTTAAAAATCACTTTTTCGTTAATGTATTATTTTTAAGTATTGTAAGTGTGCCTTACAATGATGATTATCTAACTGCTGTGATGAACTCTCTTGATATACCATGCTAATGTTTCATAGAATTTCTCAGATAAGGGACAAATACCAATCTAGGGCTGCCTATACAAATGATAACAATTCTGACAATATGCAACAGACAGACAAGTCAAACTATACTTCAGAAATAGTTTTCAAGCTTGCAAGTCTTTTTTTCTGGAAATACCAGTTTAAAGTGAAGTCTTTAATGCTCTTTACATCTTTGAGGAATTATTAGCATTATCAGAACCAGAACGCCCACCTGTTCCCAGGGACAACCTCAAGAATCCAGGATGAATATGAAGAAAACTCCATTCATTCGTCTAATCAACATTCATCAAGTCCTTTCTTATATAGGGCTTGGCAATAAGGGATCGAGTCGACGCCCTATA',\n",
        " 'size': '12414',\n",
        " 'source': 'Homo sapiens (human)',\n",
        " 'taxonomy': ['Eukaryota',\n",
        "  'Metazoa',\n",
        "  'Chordata',\n",
        "  'Craniata',\n",
        "  'Vertebrata',\n",
        "  'Euteleostomi',\n",
        "  'Mammalia',\n",
        "  'Eutheria',\n",
        "  'Euarchontoglires',\n",
        "  'Primates',\n",
        "  'Haplorrhini',\n",
        "  'Catarrhini',\n",
        "  'Hominidae',\n",
        "  'Homo'],\n",
        " 'version': 'AB009589.1',\n",
        " 'wgs': '',\n",
        " 'wgs_scafld': []}"
       ]
      }
     ],
     "prompt_number": 45
    },
    {
     "cell_type": "code",
     "collapsed": false,
     "input": [
      "schema = {}\n",
      "for record in records:\n",
      "    for feature in record.features:\n",
      "        schema[feature.key] = set([])\n",
      "        for qualifier in feature.qualifiers:\n",
      "            schema[feature.key].add(qualifier.key)\n",
      "pprint.pprint(schema)"
     ],
     "language": "python",
     "metadata": {},
     "outputs": [
      {
       "output_type": "stream",
       "stream": "stdout",
       "text": [
        "{\"3'UTR\": set(['/gene=']),\n",
        " \"5'UTR\": set(['/gene=']),\n",
        " 'CAAT_signal': set(['/note=']),\n",
        " 'CDS': set(['/allele=',\n",
        "             '/codon_start=',\n",
        "             '/db_xref=',\n",
        "             '/gene=',\n",
        "             '/product=',\n",
        "             '/protein_id=',\n",
        "             '/translation=']),\n",
        " 'GC_signal': set(['/gene=']),\n",
        " 'TATA_signal': set(['/gene=']),\n",
        " 'V_segment': set(['/gene=', '/pseudo', '/standard_name=']),\n",
        " 'enhancer': set(['/allele=', '/bound_moiety=', '/gene=']),\n",
        " 'exon': set(['/allele=', '/gene=', '/number=']),\n",
        " 'gap': set(['/estimated_length=']),\n",
        " 'gene': set(['/allele=', '/gene=']),\n",
        " 'intron': set(['/gene=', '/number=']),\n",
        " 'mRNA': set(['/allele=', '/gene=']),\n",
        " 'mat_peptide': set(['/product=']),\n",
        " 'misc_binding': set(['/bound_moiety=']),\n",
        " 'misc_difference': set(['/gene=', '/note=', '/replace=']),\n",
        " 'misc_feature': set(['/gene=', '/gene_synonym=', '/note=']),\n",
        " 'misc_recomb': set(['/gene=', '/note=']),\n",
        " 'misc_signal': set(['/note=']),\n",
        " 'polyA_signal': set(),\n",
        " 'polyA_site': set(['/gene=', '/locus_tag=']),\n",
        " 'prim_transcript': set(),\n",
        " 'primer_bind': set(),\n",
        " 'promoter': set(['/gene=']),\n",
        " 'protein_bind': set(['/bound_moiety=']),\n",
        " 'repeat_region': set(['/note=']),\n",
        " 'sig_peptide': set(['/gene=']),\n",
        " 'source': set(['/chromosome=',\n",
        "                '/db_xref=',\n",
        "                '/map=',\n",
        "                '/mol_type=',\n",
        "                '/organism=']),\n",
        " 'unsure': set(['/note=']),\n",
        " 'variation': set(['/gene=', '/replace='])}\n"
       ]
      }
     ],
     "prompt_number": 49
    },
    {
     "cell_type": "code",
     "collapsed": false,
     "input": [
      "from sqlalchemy import create_engine\n",
      "from sqlalchemy import Column, Integer, String\n",
      "from sqlalchemy.ext.declarative import declarative_base\n",
      "from sqlalchemy import ForeignKey\n",
      "\n",
      "engine = create_engine('sqlite:///:memory:', echo=True)\n",
      "Base = declarative_base()\n",
      "\n",
      "class Gene(Base):\n",
      "    __tablename__ = 'genes'\n",
      "    \n",
      "    gene_identifier= Column(Integer, primary_key=True)\n",
      "    nucleotide_sequence = Column(String)\n",
      "    chromosome_location = Column(String)    \n",
      "\n",
      "\n",
      "class Accession(Base):\n",
      "    __tablename__ = 'accession_numbers'\n",
      "    \n",
      "    accession = Column(String, primary_key=True)\n",
      "    gene = Column(Integer, ForeignKey('genes.gene_identifier'))\n",
      "\n",
      "\n",
      "class Transcript(Base):\n",
      "    __tablename__ = 'transcripts'\n",
      "    \n",
      "    id = Column(Integer, primary_key=True)\n",
      "    rna_sequence = Column(String)\n",
      "    codon_frequencies = Column(String)\n",
      "    gene = Column(Integer, ForeignKey('genes.gene_identifier'))\n",
      "\n",
      "\n",
      "class Protein(Base):\n",
      "    __tablename__ = 'proteins'\n",
      "\n",
      "    id = Column(Integer, primary_key=True)    \n",
      "    name = Column(String)\n",
      "    sequence = Column(String)\n",
      "    transcript = Column(Integer, ForeignKey('transcripts.id'))\n",
      "\n",
      "\n",
      "Base.metadata.create_all(engine) # create the tables"
     ],
     "language": "python",
     "metadata": {},
     "outputs": [
      {
       "output_type": "stream",
       "stream": "stdout",
       "text": [
        "2014-03-11 19:59:42,347 INFO sqlalchemy.engine.base.Engine PRAGMA table_info(\"genes\")\n"
       ]
      },
      {
       "output_type": "stream",
       "stream": "stderr",
       "text": [
        "INFO:sqlalchemy.engine.base.Engine:PRAGMA table_info(\"genes\")\n"
       ]
      },
      {
       "output_type": "stream",
       "stream": "stdout",
       "text": [
        "2014-03-11 19:59:42,348 INFO sqlalchemy.engine.base.Engine ()\n"
       ]
      },
      {
       "output_type": "stream",
       "stream": "stderr",
       "text": [
        "INFO:sqlalchemy.engine.base.Engine:()\n"
       ]
      },
      {
       "output_type": "stream",
       "stream": "stdout",
       "text": [
        "2014-03-11 19:59:42,349 INFO sqlalchemy.engine.base.Engine PRAGMA table_info(\"transcripts\")\n"
       ]
      },
      {
       "output_type": "stream",
       "stream": "stderr",
       "text": [
        "INFO:sqlalchemy.engine.base.Engine:PRAGMA table_info(\"transcripts\")\n"
       ]
      },
      {
       "output_type": "stream",
       "stream": "stdout",
       "text": [
        "2014-03-11 19:59:42,350 INFO sqlalchemy.engine.base.Engine ()\n"
       ]
      },
      {
       "output_type": "stream",
       "stream": "stderr",
       "text": [
        "INFO:sqlalchemy.engine.base.Engine:()\n"
       ]
      },
      {
       "output_type": "stream",
       "stream": "stdout",
       "text": [
        "2014-03-11 19:59:42,352 INFO sqlalchemy.engine.base.Engine PRAGMA table_info(\"accession_numbers\")\n"
       ]
      },
      {
       "output_type": "stream",
       "stream": "stderr",
       "text": [
        "INFO:sqlalchemy.engine.base.Engine:PRAGMA table_info(\"accession_numbers\")\n"
       ]
      },
      {
       "output_type": "stream",
       "stream": "stdout",
       "text": [
        "2014-03-11 19:59:42,353 INFO sqlalchemy.engine.base.Engine ()\n"
       ]
      },
      {
       "output_type": "stream",
       "stream": "stderr",
       "text": [
        "INFO:sqlalchemy.engine.base.Engine:()\n"
       ]
      },
      {
       "output_type": "stream",
       "stream": "stdout",
       "text": [
        "2014-03-11 19:59:42,354 INFO sqlalchemy.engine.base.Engine PRAGMA table_info(\"proteins\")\n"
       ]
      },
      {
       "output_type": "stream",
       "stream": "stderr",
       "text": [
        "INFO:sqlalchemy.engine.base.Engine:PRAGMA table_info(\"proteins\")\n"
       ]
      },
      {
       "output_type": "stream",
       "stream": "stdout",
       "text": [
        "2014-03-11 19:59:42,355 INFO sqlalchemy.engine.base.Engine ()\n"
       ]
      },
      {
       "output_type": "stream",
       "stream": "stderr",
       "text": [
        "INFO:sqlalchemy.engine.base.Engine:()\n"
       ]
      },
      {
       "output_type": "stream",
       "stream": "stdout",
       "text": [
        "2014-03-11 19:59:42,357 INFO sqlalchemy.engine.base.Engine \n",
        "CREATE TABLE genes (\n",
        "\tgene_identifier INTEGER NOT NULL, \n",
        "\tnucleotide_sequence VARCHAR, \n",
        "\tchromosome_location VARCHAR, \n",
        "\tPRIMARY KEY (gene_identifier)\n",
        ")\n",
        "\n",
        "\n"
       ]
      },
      {
       "output_type": "stream",
       "stream": "stderr",
       "text": [
        "INFO:sqlalchemy.engine.base.Engine:\n",
        "CREATE TABLE genes (\n",
        "\tgene_identifier INTEGER NOT NULL, \n",
        "\tnucleotide_sequence VARCHAR, \n",
        "\tchromosome_location VARCHAR, \n",
        "\tPRIMARY KEY (gene_identifier)\n",
        ")\n",
        "\n",
        "\n"
       ]
      },
      {
       "output_type": "stream",
       "stream": "stdout",
       "text": [
        "2014-03-11 19:59:42,359 INFO sqlalchemy.engine.base.Engine ()\n"
       ]
      },
      {
       "output_type": "stream",
       "stream": "stderr",
       "text": [
        "INFO:sqlalchemy.engine.base.Engine:()\n"
       ]
      },
      {
       "output_type": "stream",
       "stream": "stdout",
       "text": [
        "2014-03-11 19:59:42,360 INFO sqlalchemy.engine.base.Engine COMMIT\n"
       ]
      },
      {
       "output_type": "stream",
       "stream": "stderr",
       "text": [
        "INFO:sqlalchemy.engine.base.Engine:COMMIT\n"
       ]
      },
      {
       "output_type": "stream",
       "stream": "stdout",
       "text": [
        "2014-03-11 19:59:42,362 INFO sqlalchemy.engine.base.Engine \n",
        "CREATE TABLE transcripts (\n",
        "\tid INTEGER NOT NULL, \n",
        "\trna_sequence VARCHAR, \n",
        "\tcodon_frequenfies VARCHAR, \n",
        "\tgene INTEGER, \n",
        "\tPRIMARY KEY (id), \n",
        "\tFOREIGN KEY(gene) REFERENCES genes (gene_identifier)\n",
        ")\n",
        "\n",
        "\n"
       ]
      },
      {
       "output_type": "stream",
       "stream": "stderr",
       "text": [
        "INFO:sqlalchemy.engine.base.Engine:\n",
        "CREATE TABLE transcripts (\n",
        "\tid INTEGER NOT NULL, \n",
        "\trna_sequence VARCHAR, \n",
        "\tcodon_frequenfies VARCHAR, \n",
        "\tgene INTEGER, \n",
        "\tPRIMARY KEY (id), \n",
        "\tFOREIGN KEY(gene) REFERENCES genes (gene_identifier)\n",
        ")\n",
        "\n",
        "\n"
       ]
      },
      {
       "output_type": "stream",
       "stream": "stdout",
       "text": [
        "2014-03-11 19:59:42,363 INFO sqlalchemy.engine.base.Engine ()\n"
       ]
      },
      {
       "output_type": "stream",
       "stream": "stderr",
       "text": [
        "INFO:sqlalchemy.engine.base.Engine:()\n"
       ]
      },
      {
       "output_type": "stream",
       "stream": "stdout",
       "text": [
        "2014-03-11 19:59:42,364 INFO sqlalchemy.engine.base.Engine COMMIT\n"
       ]
      },
      {
       "output_type": "stream",
       "stream": "stderr",
       "text": [
        "INFO:sqlalchemy.engine.base.Engine:COMMIT\n"
       ]
      },
      {
       "output_type": "stream",
       "stream": "stdout",
       "text": [
        "2014-03-11 19:59:42,365 INFO sqlalchemy.engine.base.Engine \n",
        "CREATE TABLE accession_numbers (\n",
        "\taccession VARCHAR NOT NULL, \n",
        "\tgene INTEGER, \n",
        "\tPRIMARY KEY (accession), \n",
        "\tFOREIGN KEY(gene) REFERENCES genes (gene_identifier)\n",
        ")\n",
        "\n",
        "\n"
       ]
      },
      {
       "output_type": "stream",
       "stream": "stderr",
       "text": [
        "INFO:sqlalchemy.engine.base.Engine:\n",
        "CREATE TABLE accession_numbers (\n",
        "\taccession VARCHAR NOT NULL, \n",
        "\tgene INTEGER, \n",
        "\tPRIMARY KEY (accession), \n",
        "\tFOREIGN KEY(gene) REFERENCES genes (gene_identifier)\n",
        ")\n",
        "\n",
        "\n"
       ]
      },
      {
       "output_type": "stream",
       "stream": "stdout",
       "text": [
        "2014-03-11 19:59:42,366 INFO sqlalchemy.engine.base.Engine ()\n"
       ]
      },
      {
       "output_type": "stream",
       "stream": "stderr",
       "text": [
        "INFO:sqlalchemy.engine.base.Engine:()\n"
       ]
      },
      {
       "output_type": "stream",
       "stream": "stdout",
       "text": [
        "2014-03-11 19:59:42,367 INFO sqlalchemy.engine.base.Engine COMMIT\n"
       ]
      },
      {
       "output_type": "stream",
       "stream": "stderr",
       "text": [
        "INFO:sqlalchemy.engine.base.Engine:COMMIT\n"
       ]
      },
      {
       "output_type": "stream",
       "stream": "stdout",
       "text": [
        "2014-03-11 19:59:42,368 INFO sqlalchemy.engine.base.Engine \n",
        "CREATE TABLE proteins (\n",
        "\tid INTEGER NOT NULL, \n",
        "\tname VARCHAR, \n",
        "\ttranscript INTEGER, \n",
        "\tPRIMARY KEY (id), \n",
        "\tFOREIGN KEY(transcript) REFERENCES transcripts (id)\n",
        ")\n",
        "\n",
        "\n"
       ]
      },
      {
       "output_type": "stream",
       "stream": "stderr",
       "text": [
        "INFO:sqlalchemy.engine.base.Engine:\n",
        "CREATE TABLE proteins (\n",
        "\tid INTEGER NOT NULL, \n",
        "\tname VARCHAR, \n",
        "\ttranscript INTEGER, \n",
        "\tPRIMARY KEY (id), \n",
        "\tFOREIGN KEY(transcript) REFERENCES transcripts (id)\n",
        ")\n",
        "\n",
        "\n"
       ]
      },
      {
       "output_type": "stream",
       "stream": "stdout",
       "text": [
        "2014-03-11 19:59:42,369 INFO sqlalchemy.engine.base.Engine ()\n"
       ]
      },
      {
       "output_type": "stream",
       "stream": "stderr",
       "text": [
        "INFO:sqlalchemy.engine.base.Engine:()\n"
       ]
      },
      {
       "output_type": "stream",
       "stream": "stdout",
       "text": [
        "2014-03-11 19:59:42,370 INFO sqlalchemy.engine.base.Engine COMMIT\n"
       ]
      },
      {
       "output_type": "stream",
       "stream": "stderr",
       "text": [
        "INFO:sqlalchemy.engine.base.Engine:COMMIT\n"
       ]
      }
     ],
     "prompt_number": 5
    },
    {
     "cell_type": "code",
     "collapsed": false,
     "input": [
      "test = Gene(gene_identifier=record.gi ,nucleotide_sequence=record.sequence ,chromosome_location =record.locus )"
     ],
     "language": "python",
     "metadata": {},
     "outputs": [],
     "prompt_number": 6
    },
    {
     "cell_type": "code",
     "collapsed": false,
     "input": [
      "test.nucleotide_sequence"
     ],
     "language": "python",
     "metadata": {},
     "outputs": [
      {
       "metadata": {},
       "output_type": "pyout",
       "prompt_number": 7,
       "text": [
        "'GTTCTTCGGGGGGTCGGTGCAAGAGGTGCAGCGGCTCACCAGGGCCTGCCACCAGGCCATGATGGTCGACCAGGCCAACGGCATCGAGGCCGTGTGGCACGGCGAGAGCCACCTGAACAAGTACCT'"
       ]
      }
     ],
     "prompt_number": 7
    },
    {
     "cell_type": "code",
     "collapsed": false,
     "input": [
      "from sqlalchemy.orm import sessionmaker\n",
      "Session = sessionmaker(bind=engine)\n",
      "session = Session()\n",
      "session.add(test) # to persist our object we add it to out session"
     ],
     "language": "python",
     "metadata": {},
     "outputs": [],
     "prompt_number": 8
    },
    {
     "cell_type": "code",
     "collapsed": false,
     "input": [
      "q = session.query(Gene).filter_by(gene_identifier = record.gi).all()"
     ],
     "language": "python",
     "metadata": {},
     "outputs": [
      {
       "output_type": "stream",
       "stream": "stdout",
       "text": [
        "2014-03-11 19:59:48,041 INFO sqlalchemy.engine.base.Engine BEGIN (implicit)\n"
       ]
      },
      {
       "output_type": "stream",
       "stream": "stderr",
       "text": [
        "INFO:sqlalchemy.engine.base.Engine:BEGIN (implicit)\n"
       ]
      },
      {
       "output_type": "stream",
       "stream": "stdout",
       "text": [
        "2014-03-11 19:59:48,047 INFO sqlalchemy.engine.base.Engine INSERT INTO genes (gene_identifier, nucleotide_sequence, chromosome_location) VALUES (?, ?, ?)\n"
       ]
      },
      {
       "output_type": "stream",
       "stream": "stderr",
       "text": [
        "INFO:sqlalchemy.engine.base.Engine:INSERT INTO genes (gene_identifier, nucleotide_sequence, chromosome_location) VALUES (?, ?, ?)\n"
       ]
      },
      {
       "output_type": "stream",
       "stream": "stdout",
       "text": [
        "2014-03-11 19:59:48,052 INFO sqlalchemy.engine.base.Engine ('162316949', 'GTTCTTCGGGGGGTCGGTGCAAGAGGTGCAGCGGCTCACCAGGGCCTGCCACCAGGCCATGATGGTCGACCAGGCCAACGGCATCGAGGCCGTGTGGCACGGCGAGAGCCACCTGAACAAGTACCT', 'EU286279')\n"
       ]
      },
      {
       "output_type": "stream",
       "stream": "stderr",
       "text": [
        "INFO:sqlalchemy.engine.base.Engine:('162316949', 'GTTCTTCGGGGGGTCGGTGCAAGAGGTGCAGCGGCTCACCAGGGCCTGCCACCAGGCCATGATGGTCGACCAGGCCAACGGCATCGAGGCCGTGTGGCACGGCGAGAGCCACCTGAACAAGTACCT', 'EU286279')\n"
       ]
      },
      {
       "output_type": "stream",
       "stream": "stdout",
       "text": [
        "2014-03-11 19:59:48,056 INFO sqlalchemy.engine.base.Engine SELECT genes.gene_identifier AS genes_gene_identifier, genes.nucleotide_sequence AS genes_nucleotide_sequence, genes.chromosome_location AS genes_chromosome_location \n",
        "FROM genes \n",
        "WHERE genes.gene_identifier = ?\n"
       ]
      },
      {
       "output_type": "stream",
       "stream": "stderr",
       "text": [
        "INFO:sqlalchemy.engine.base.Engine:SELECT genes.gene_identifier AS genes_gene_identifier, genes.nucleotide_sequence AS genes_nucleotide_sequence, genes.chromosome_location AS genes_chromosome_location \n",
        "FROM genes \n",
        "WHERE genes.gene_identifier = ?\n"
       ]
      },
      {
       "output_type": "stream",
       "stream": "stdout",
       "text": [
        "2014-03-11 19:59:48,058 INFO sqlalchemy.engine.base.Engine ('162316949',)\n"
       ]
      },
      {
       "output_type": "stream",
       "stream": "stderr",
       "text": [
        "INFO:sqlalchemy.engine.base.Engine:('162316949',)\n"
       ]
      }
     ],
     "prompt_number": 9
    },
    {
     "cell_type": "code",
     "collapsed": false,
     "input": [
      "session.commit()"
     ],
     "language": "python",
     "metadata": {},
     "outputs": [
      {
       "output_type": "stream",
       "stream": "stdout",
       "text": [
        "2014-03-11 20:01:35,510 INFO sqlalchemy.engine.base.Engine COMMIT\n"
       ]
      },
      {
       "output_type": "stream",
       "stream": "stderr",
       "text": [
        "INFO:sqlalchemy.engine.base.Engine:COMMIT\n"
       ]
      }
     ],
     "prompt_number": 10
    },
    {
     "cell_type": "code",
     "collapsed": false,
     "input": [
      "from collections import Counter\n",
      "\n",
      "bases = ['t', 'c', 'a', 'g']\n",
      "codons = [a+b+c for a in bases for b in bases for c in bases]\n",
      "amino_acids = 'FFLLSSSSYY**CC*WLLLLPPPPHHQQRRRRIIIMTTTTNNKKSSRRVVVVAAAADDEEGGGG'\n",
      "codon_table = dict(zip(codons, amino_acids))\n",
      "\n",
      "def translate(seq):\n",
      "    seq = seq.lower().replace('\\n', '').replace(' ', '')\n",
      "    peptide = ''\n",
      "    \n",
      "    for i in xrange(0, len(seq), 3):\n",
      "        codon = seq[i: i+3]\n",
      "        amino_acid = codon_table.get(codon, '*')\n",
      "        if amino_acid != '*':\n",
      "            peptide += amino_acid\n",
      "        else:\n",
      "            break\n",
      "                \n",
      "    return peptide\n",
      "\n",
      "def transcribe(seq):\n",
      "    mapping = {'A':'U', 'T':'A', 'C':'G', 'G':'U'}\n",
      "    try:\n",
      "        cdna = ''.join([mapping[base] for base in seq])\n",
      "        return cdna\n",
      "    except:\n",
      "        print \"\\nError\\n\", seq\n",
      "\n",
      "def codon_frequencies(seq):\n",
      "    assert seq % 3 == 0\n",
      "    return Counter([seq[i:i+3] for i in xrange(0,len(seq),3)])\n"
     ],
     "language": "python",
     "metadata": {},
     "outputs": [],
     "prompt_number": 20
    },
    {
     "cell_type": "code",
     "collapsed": false,
     "input": [
      "translate(test.nucleotide_sequence) #THIS is WRONG! there was no splicing!"
     ],
     "language": "python",
     "metadata": {},
     "outputs": [
      {
       "metadata": {},
       "output_type": "pyout",
       "prompt_number": 21,
       "text": [
        "'VLRGVGARGAAAHQGLPPGHDGRPGQRHRGRVARREPPEQVP'"
       ]
      }
     ],
     "prompt_number": 21
    },
    {
     "cell_type": "code",
     "collapsed": false,
     "input": [
      "for record in records:\n",
      "    gene = Gene(gene_identifier=record.gi ,nucleotide_sequence=record.sequence ,chromosome_location=record.locus)\n",
      "\n",
      "    for feature in record.features:\n",
      "        if feature.key == 'CDS':\n",
      "            translation, name  = None, None\n",
      "            for qualifier in feature.qualifiers:\n",
      "                if qualifier.key == '/translation=':\n",
      "                    translation = qualifier.value\n",
      "                if qualifier.key == '/product=':\n",
      "                    name = qualifier.value\n",
      "            Protein(name=name, sequence=sequence)\n"
     ],
     "language": "python",
     "metadata": {},
     "outputs": [
      {
       "ename": "NameError",
       "evalue": "name 'Protein' is not defined",
       "output_type": "pyerr",
       "traceback": [
        "\u001b[1;31m---------------------------------------------------------------------------\u001b[0m\n\u001b[1;31mNameError\u001b[0m                                 Traceback (most recent call last)",
        "\u001b[1;32m<ipython-input-51-6c0284bdda94>\u001b[0m in \u001b[0;36m<module>\u001b[1;34m()\u001b[0m\n\u001b[0;32m     10\u001b[0m                 \u001b[1;32mif\u001b[0m \u001b[0mqualifier\u001b[0m\u001b[1;33m.\u001b[0m\u001b[0mkey\u001b[0m \u001b[1;33m==\u001b[0m \u001b[1;34m'/product='\u001b[0m\u001b[1;33m:\u001b[0m\u001b[1;33m\u001b[0m\u001b[0m\n\u001b[0;32m     11\u001b[0m                     \u001b[0mname\u001b[0m \u001b[1;33m=\u001b[0m \u001b[0mqualifier\u001b[0m\u001b[1;33m.\u001b[0m\u001b[0mvalue\u001b[0m\u001b[1;33m\u001b[0m\u001b[0m\n\u001b[1;32m---> 12\u001b[1;33m             \u001b[0mProtein\u001b[0m\u001b[1;33m(\u001b[0m\u001b[0mname\u001b[0m\u001b[1;33m=\u001b[0m\u001b[0mname\u001b[0m\u001b[1;33m,\u001b[0m \u001b[0msequence\u001b[0m\u001b[1;33m=\u001b[0m\u001b[0msequence\u001b[0m\u001b[1;33m)\u001b[0m\u001b[1;33m\u001b[0m\u001b[0m\n\u001b[0m",
        "\u001b[1;31mNameError\u001b[0m: name 'Protein' is not defined"
       ]
      }
     ],
     "prompt_number": 51
    },
    {
     "cell_type": "code",
     "collapsed": false,
     "input": [],
     "language": "python",
     "metadata": {},
     "outputs": []
    }
   ],
   "metadata": {}
  }
 ]
}